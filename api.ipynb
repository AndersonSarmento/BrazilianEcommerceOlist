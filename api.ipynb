{
 "cells": [
  {
   "cell_type": "code",
   "execution_count": 28,
   "metadata": {},
   "outputs": [
    {
     "name": "stdout",
     "output_type": "stream",
     "text": [
      "ref                                                        title                                               size  lastUpdated          downloadCount  voteCount  usabilityRating  \n",
      "---------------------------------------------------------  -------------------------------------------------  -----  -------------------  -------------  ---------  ---------------  \n",
      "unanimad/corona-virus-brazil                               Coronavirus - Brazil                                27MB  2021-05-24 10:36:52          46827        412  1.0              \n",
      "gustavomodelli/forest-fires-in-brazil                      Forest Fires in Brazil                              31KB  2019-08-24 16:09:16          33409        727  0.9411765        \n",
      "matheusfreitag/gas-prices-in-brazil                        Gas Prices in Brazil                                 3MB  2022-03-11 18:03:57          17495        403  1.0              \n",
      "olistbr/brazilian-ecommerce                                Brazilian E-Commerce Public Dataset by Olist        43MB  2021-10-01 19:08:27         221710       2983  1.0              \n",
      "rubenssjr/brasilian-houses-to-rent                         brazilian_houses_to_rent                           282KB  2020-03-25 22:51:17          12133        298  1.0              \n",
      "crisparada/brazilian-cities                                Brazilian Cities                                     2MB  2022-02-08 15:02:14           8205        220  1.0              \n",
      "datahackers/state-of-data-2021                             State of Data Brazil 2021                          539KB  2022-03-31 18:48:28           2744        260  0.9705882        \n",
      "PROPPG-PPG/hourly-weather-surface-brazil-southeast-region  Climate Weather Surface of Brazil - Hourly           2GB  2023-01-29 03:50:05          12913        246  0.9411765        \n",
      "datahackers/state-of-data-2022                             State of Data Brazil 2022                          996KB  2023-03-13 00:28:31            981        184  1.0              \n",
      "inquisitivecrow/crime-data-in-brazil                       Crime Data in Brazil                               891MB  2019-03-16 08:25:25           4979        153  0.8235294        \n",
      "ramirobentes/flights-in-brazil                             Flights in Brazil                                   79MB  2017-11-14 20:02:52           4571        104  0.7058824        \n",
      "thiagobodruk/brazilianstates                               Brazil Dataset                                       4KB  2020-04-10 16:12:06            851         16  1.0              \n",
      "thiagobodruk/brazil-geojson                                Brazil GeoJson                                       2MB  2020-03-19 03:04:13           1579         21  1.0              \n",
      "vagnerbessa/average-car-prices-bazil                       Average car prices - Brazil                         18MB  2023-01-14 15:21:48           1597         36  1.0              \n",
      "lgmoneda/br-coins                                          Brazilian Coins                                    945MB  2020-05-06 23:27:51           2478         73  0.875            \n",
      "marlesson/news-of-the-site-folhauol                        News of the Brazilian Newspaper                    187MB  2019-06-05 03:33:51           3229         79  1.0              \n",
      "nosbielcs/opendataaigbrazil                                Opendata AIG Brazil                                319KB  2018-05-06 02:07:36            744         18  1.0              \n",
      "mbogernetto/brazilian-amazon-rainforest-degradation        Brazilian Amazon Rainforest Degradation 1999-2019   46KB  2019-12-27 10:02:25           4778         87  1.0              \n",
      "gerosa/procon                                              Consumer Business Complaints in Brazil              76MB  2017-10-11 21:22:17           2826         54  0.88235295       \n",
      "volpatto/temperature-timeseries-for-some-brazilian-cities  Temperature Time-Series for some Brazilian cities   27KB  2019-12-08 23:15:09           6020         99  0.9411765        \n"
     ]
    }
   ],
   "source": [
    "! kaggle datasets list -s  'brazil'"
   ]
  },
  {
   "cell_type": "code",
   "execution_count": 31,
   "metadata": {},
   "outputs": [
    {
     "name": "stdout",
     "output_type": "stream",
     "text": [
      "Downloading brazilian-ecommerce.zip to /home/ander/Documents/Estudos/Projetos/BrazilianEcommerceOlist\n",
      "100%|███████████████████████████████████████| 42.6M/42.6M [00:58<00:00, 752kB/s]\n",
      "100%|███████████████████████████████████████| 42.6M/42.6M [00:58<00:00, 760kB/s]\n"
     ]
    }
   ],
   "source": [
    "! kaggle datasets download -d 'olistbr/brazilian-ecommerce'"
   ]
  }
 ],
 "metadata": {
  "kernelspec": {
   "display_name": "Python 3",
   "language": "python",
   "name": "python3"
  },
  "language_info": {
   "codemirror_mode": {
    "name": "ipython",
    "version": 3
   },
   "file_extension": ".py",
   "mimetype": "text/x-python",
   "name": "python",
   "nbconvert_exporter": "python",
   "pygments_lexer": "ipython3",
   "version": "3.10.12"
  }
 },
 "nbformat": 4,
 "nbformat_minor": 2
}
